{
 "cells": [
  {
   "cell_type": "markdown",
   "metadata": {
    "slideshow": {
     "slide_type": "fragment"
    }
   },
   "source": [
    "# Sample exercises for practice\n",
    "## Fibonacci series\n",
    "A function that returns the nth term in the Fibbonacci-like series, where we sum the given number of previous terms"
   ]
  },
  {
   "cell_type": "code",
   "execution_count": 1,
   "metadata": {},
   "outputs": [],
   "source": [
    "def fibonacci(nth, terms):\n",
    "    if nth in range(0,terms):\n",
    "        return 1\n",
    "    else:\n",
    "        sum = fibonacci(nth-1, terms)\n",
    "        for i in range(1, terms):\n",
    "            sum += fibonacci(nth-1-i, terms)\n",
    "        return sum"
   ]
  },
  {
   "cell_type": "code",
   "execution_count": 2,
   "metadata": {},
   "outputs": [
    {
     "name": "stdout",
     "output_type": "stream",
     "text": [
      "First: 1\n",
      "Second: 1\n"
     ]
    }
   ],
   "source": [
    "terms = 4\n",
    "print(f\"First: {fibonacci(0, terms)}\")\n",
    "print(f\"Second: {fibonacci(1, terms)}\")"
   ]
  },
  {
   "cell_type": "code",
   "execution_count": 20,
   "metadata": {},
   "outputs": [
    {
     "name": "stdout",
     "output_type": "stream",
     "text": [
      "Printing ten Fobinacci numbers:\n",
      "[1, 1, 1, 1, 4, 7, 13, 25, 49, 94]\n"
     ]
    }
   ],
   "source": [
    "print(\"Printing ten Fobinacci numbers:\")\n",
    "print(list(fibonacci(nth, terms) for nth in range(0,10)))"
   ]
  },
  {
   "cell_type": "markdown",
   "metadata": {},
   "source": [
    "## Sorting numbers in different ways"
   ]
  },
  {
   "cell_type": "code",
   "execution_count": 3,
   "metadata": {},
   "outputs": [],
   "source": [
    "# List sorting and removing duplicates\n",
    "mylist = [3,5,23,34,1,32,87,2,5,5,1,87]\n",
    "\n",
    "def sort1(nums):\n",
    "    return sorted(set(nums))\n",
    "\n",
    "def sort2(nums):\n",
    "    no_dupes = []\n",
    "    for num in nums: \n",
    "        if not num in no_dupes:\n",
    "            no_dupes.append(num)\n",
    "    sorted_nums = []\n",
    "    while len(no_dupes)>0:\n",
    "        sorted_nums.append(min(no_dupes))\n",
    "        no_dupes.pop(no_dupes.index(sorted_nums[-1]))\n",
    "    return sorted_nums\n",
    "\n",
    "def sort3(nums):\n",
    "    for index, num in enumerate(nums): \n",
    "        if num in nums[index+1::]:\n",
    "            nums.pop(index)\n",
    "    swaps = True\n",
    "    while swaps:\n",
    "        swaps = False\n",
    "        for i in range(0,len(nums)-1):\n",
    "            if nums[i] > nums[i+1]:\n",
    "                temp = nums[i+1]\n",
    "                nums[i+1] = nums[i]\n",
    "                nums[i] = temp\n",
    "                swaps=True\n",
    "    return nums\n",
    "            \n",
    "    "
   ]
  },
  {
   "cell_type": "code",
   "execution_count": 4,
   "metadata": {},
   "outputs": [
    {
     "name": "stdout",
     "output_type": "stream",
     "text": [
      "Sorted with method 1: [1, 2, 3, 5, 23, 32, 34, 87]\n",
      "Sorted with method 2: [1, 2, 3, 5, 23, 32, 34, 87]\n",
      "Sorted with method 3: [1, 2, 3, 5, 23, 32, 34, 87]\n"
     ]
    }
   ],
   "source": [
    "print(f\"Sorted with method 1: {sort1(mylist)}\")\n",
    "print(f\"Sorted with method 2: {sort2(mylist)}\")\n",
    "print(f\"Sorted with method 3: {sort3(mylist)}\")"
   ]
  },
  {
   "cell_type": "markdown",
   "metadata": {},
   "source": [
    "## How about the pandas thing..."
   ]
  },
  {
   "cell_type": "code",
   "execution_count": 3,
   "metadata": {},
   "outputs": [],
   "source": [
    "import numpy as np\n",
    "import pandas as pd"
   ]
  },
  {
   "cell_type": "code",
   "execution_count": 4,
   "metadata": {},
   "outputs": [
    {
     "data": {
      "text/plain": [
       "0    7.0\n",
       "1    6.0\n",
       "2    5.0\n",
       "3    4.0\n",
       "4    3.0\n",
       "5    NaN\n",
       "dtype: float64"
      ]
     },
     "execution_count": 4,
     "metadata": {},
     "output_type": "execute_result"
    }
   ],
   "source": [
    "x = pd.Series([7,6,5,4,3,np.nan])\n",
    "x"
   ]
  },
  {
   "cell_type": "code",
   "execution_count": 5,
   "metadata": {},
   "outputs": [
    {
     "data": {
      "text/html": [
       "<div>\n",
       "<style scoped>\n",
       "    .dataframe tbody tr th:only-of-type {\n",
       "        vertical-align: middle;\n",
       "    }\n",
       "\n",
       "    .dataframe tbody tr th {\n",
       "        vertical-align: top;\n",
       "    }\n",
       "\n",
       "    .dataframe thead th {\n",
       "        text-align: right;\n",
       "    }\n",
       "</style>\n",
       "<table border=\"1\" class=\"dataframe\">\n",
       "  <thead>\n",
       "    <tr style=\"text-align: right;\">\n",
       "      <th></th>\n",
       "      <th>Adam</th>\n",
       "      <th>Kris</th>\n",
       "    </tr>\n",
       "  </thead>\n",
       "  <tbody>\n",
       "    <tr>\n",
       "      <th>2</th>\n",
       "      <td>234</td>\n",
       "      <td>1</td>\n",
       "    </tr>\n",
       "    <tr>\n",
       "      <th>3</th>\n",
       "      <td>234</td>\n",
       "      <td>2</td>\n",
       "    </tr>\n",
       "    <tr>\n",
       "      <th>4</th>\n",
       "      <td>234</td>\n",
       "      <td>3</td>\n",
       "    </tr>\n",
       "  </tbody>\n",
       "</table>\n",
       "</div>"
      ],
      "text/plain": [
       "   Adam  Kris\n",
       "2   234     1\n",
       "3   234     2\n",
       "4   234     3"
      ]
     },
     "execution_count": 5,
     "metadata": {},
     "output_type": "execute_result"
    }
   ],
   "source": [
    "y=pd.DataFrame({\"Adam\": 234, \"Kris\": [1,2,3]}, index=range(2,5))\n",
    "y"
   ]
  },
  {
   "cell_type": "code",
   "execution_count": 19,
   "metadata": {},
   "outputs": [
    {
     "data": {
      "text/plain": [
       "pandas.core.series.Series"
      ]
     },
     "execution_count": 19,
     "metadata": {},
     "output_type": "execute_result"
    }
   ],
   "source": [
    "type(y.Adam)"
   ]
  },
  {
   "cell_type": "markdown",
   "metadata": {},
   "source": [
    "## Multiples of 3 and 5\n",
    "\n",
    "If we list all the natural numbers below 10 that are multiples of 3 or 5, we get 3, 5, 6 and 9. The sum of these multiples is 23.\n",
    "\n",
    "Find the sum of all the multiples of 3 or 5 below 1000."
   ]
  },
  {
   "cell_type": "code",
   "execution_count": 4,
   "metadata": {},
   "outputs": [],
   "source": [
    "def list_multiples(nums, limit):\n",
    "    multiples = []\n",
    "    for i in range (1, limit+1):\n",
    "        for index, num in enumerate(nums):\n",
    "            if i % num == 0:\n",
    "                multiples.append(i)\n",
    "                break                \n",
    "    return multiples\n",
    "        \n",
    "def sum_multiples(nums, limit):\n",
    "    return sum(list_multiples(nums, limit))"
   ]
  },
  {
   "cell_type": "code",
   "execution_count": 5,
   "metadata": {},
   "outputs": [
    {
     "name": "stdout",
     "output_type": "stream",
     "text": [
      "List multiples of 3 and 5 until 20: [3, 5, 6, 9, 10, 12, 15, 18, 20]\n"
     ]
    }
   ],
   "source": [
    "nums=[3,5]\n",
    "limit=100\n",
    "print(f\"List multiples of {str(nums)} until 20: {list_multiples(nums, 20)}\")\n",
    "print(f\"And their sum is {sum(mulitples(nums, limit))}\")"
   ]
  },
  {
   "cell_type": "markdown",
   "metadata": {},
   "source": [
    "## Even Fibonacci numbers\n",
    "\n",
    "Each new term in the Fibonacci sequence is generated by adding the previous two terms. By starting with 1 and 2, the first 10 terms will be:\n",
    "\n",
    "1, 2, 3, 5, 8, 13, 21, 34, 55, 89, ...\n",
    "\n",
    "By considering the terms in the Fibonacci sequence whose values do not exceed four million, find the sum of the even-valued terms."
   ]
  },
  {
   "cell_type": "code",
   "execution_count": 2,
   "metadata": {},
   "outputs": [
    {
     "name": "stdout",
     "output_type": "stream",
     "text": [
      "The sum of even Fibonacci numbers up to 4000000 is 4613732\n"
     ]
    }
   ],
   "source": [
    "terms = [1,1]\n",
    "fib_sum = 0\n",
    "limit = 4000000\n",
    "while terms[1] < limit:\n",
    "    terms.append(terms[0]+terms[1])\n",
    "    terms.pop(0)\n",
    "    if terms[1] % 2 == 0:\n",
    "        fib_sum += terms[1]\n",
    "\n",
    "print(f\"The sum of even Fibonacci numbers up to {limit} is {fib_sum}\")"
   ]
  },
  {
   "cell_type": "markdown",
   "metadata": {},
   "source": [
    "## Largest prime factor\n",
    "\n",
    "The prime factors of 13195 are 5, 7, 13 and 29.\n",
    "\n",
    "What is the largest prime factor of the number 600851475143 ?"
   ]
  },
  {
   "cell_type": "code",
   "execution_count": 16,
   "metadata": {},
   "outputs": [
    {
     "name": "stdout",
     "output_type": "stream",
     "text": [
      "Factors of 600851475143 are [8462696833, 716151937, 408464633, 87625999, 10086647, 5753023, 1234169, 486847, 104441, 59569, 6857, 1471, 839, 71]\n",
      "The largest factor of 600851475143 is 6857.\n"
     ]
    }
   ],
   "source": [
    "\n",
    "\n",
    "def find_factors(num): \n",
    "    factors = []\n",
    "    limit = num\n",
    "    i = 2\n",
    "    while i < limit:\n",
    "        if num % i == 0:\n",
    "            factors.append(i)\n",
    "            factors.append(int(num/i))\n",
    "            limit = int(num/i)\n",
    "        i += 1\n",
    "    return factors\n",
    "\n",
    "num = 600851475143\n",
    "factors = sorted(find_factors(num), reverse=True)\n",
    "print(f\"Factors of {num} are {factors}\")\n",
    "for factor in factors: \n",
    "    subfactors = find_factors(factor)\n",
    "    if not subfactors:\n",
    "        largest_factor = factor\n",
    "        break\n",
    "        \n",
    "print(f\"The largest factor of {num} is {largest_factor}.\")\n"
   ]
  },
  {
   "cell_type": "markdown",
   "metadata": {},
   "source": [
    "## Largest palindrome product\n",
    "\n",
    "A palindromic number reads the same both ways. The largest palindrome made from the product of two 2-digit numbers is 9009 = 91 × 99.\n",
    "\n",
    "Find the largest palindrome made from the product of two 3-digit numbers."
   ]
  },
  {
   "cell_type": "code",
   "execution_count": 33,
   "metadata": {},
   "outputs": [
    {
     "name": "stdout",
     "output_type": "stream",
     "text": [
      "Found a palindrome: 906609 that is in the multiplication table\n"
     ]
    }
   ],
   "source": [
    "def is_palindrome(num: int):\n",
    "    return list(reversed(list(str(num)))) == list(str(num))\n",
    "\n",
    "digits = 3\n",
    "max_num = int(\"1\"+(digits)*\"0\")\n",
    "min_num  = int(\"1\"+(digits-1)*\"0\")\n",
    "mult_table = set()\n",
    "for x in range(min_num, max_num):\n",
    "    for y in range(min_num, max_num):\n",
    "        mult_table.add(x*y)\n",
    "\n",
    "found=False\n",
    "num=(max_num-1)**2\n",
    "while found is False:\n",
    "    if is_palindrome(num):\n",
    "        if num in mult_table:\n",
    "            found = True\n",
    "            print(f\"Found a palindrome: {num} that is in the multiplication table\")\n",
    "    num -= 1\n",
    "    "
   ]
  },
  {
   "cell_type": "code",
   "execution_count": null,
   "metadata": {},
   "outputs": [],
   "source": []
  }
 ],
 "metadata": {
  "kernelspec": {
   "display_name": "Python 3",
   "language": "python",
   "name": "python3"
  },
  "language_info": {
   "codemirror_mode": {
    "name": "ipython",
    "version": 3
   },
   "file_extension": ".py",
   "mimetype": "text/x-python",
   "name": "python",
   "nbconvert_exporter": "python",
   "pygments_lexer": "ipython3",
   "version": "3.8.2"
  }
 },
 "nbformat": 4,
 "nbformat_minor": 4
}
